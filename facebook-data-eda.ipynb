{
 "cells": [
  {
   "cell_type": "markdown",
   "metadata": {},
   "source": [
    "## Mr. Yogesh P Murumkar (Mob. 9657080905)\n",
    "### www.youtube.com/yogeshmurumkar"
   ]
  },
  {
   "cell_type": "code",
   "execution_count": 1,
   "metadata": {
    "_cell_guid": "b1076dfc-b9ad-4769-8c92-a6c4dae69d19",
    "_uuid": "8f2839f25d086af736a60e9eeb907d3b93b6e0e5",
    "execution": {
     "iopub.execute_input": "2021-07-31T13:57:19.612923Z",
     "iopub.status.busy": "2021-07-31T13:57:19.612181Z",
     "iopub.status.idle": "2021-07-31T13:57:19.623034Z",
     "shell.execute_reply": "2021-07-31T13:57:19.622361Z",
     "shell.execute_reply.started": "2021-07-31T13:56:13.659656Z"
    },
    "papermill": {
     "duration": 0.050455,
     "end_time": "2021-07-31T13:57:19.623226",
     "exception": false,
     "start_time": "2021-07-31T13:57:19.572771",
     "status": "completed"
    },
    "tags": []
   },
   "outputs": [
    {
     "name": "stdout",
     "output_type": "stream",
     "text": [
      "/kaggle/input/facebook-data/pseudo_facebook.csv\n"
     ]
    }
   ],
   "source": [
    "import numpy as np # linear algebra\n",
    "import pandas as pd # data processing, CSV file I/O (e.g. pd.read_csv)\n",
    "\n",
    "# Input data files are available in the read-only \"../input/\" directory\n",
    "# For example, running this (by clicking run or pressing Shift+Enter) will list all files under the input directory\n",
    "\n",
    "import os\n",
    "for dirname, _, filenames in os.walk('input'):\n",
    "    for filename in filenames:\n",
    "        print(os.path.join(dirname, filename))"
   ]
  },
  {
   "cell_type": "code",
   "execution_count": 2,
   "metadata": {
    "execution": {
     "iopub.execute_input": "2021-07-31T13:57:19.703485Z",
     "iopub.status.busy": "2021-07-31T13:57:19.702666Z",
     "iopub.status.idle": "2021-07-31T13:57:20.778657Z",
     "shell.execute_reply": "2021-07-31T13:57:20.778081Z",
     "shell.execute_reply.started": "2021-07-31T13:56:13.687644Z"
    },
    "papermill": {
     "duration": 1.120917,
     "end_time": "2021-07-31T13:57:20.778811",
     "exception": false,
     "start_time": "2021-07-31T13:57:19.657894",
     "status": "completed"
    },
    "tags": []
   },
   "outputs": [],
   "source": [
    "import matplotlib.pyplot as plt\n",
    "import seaborn as sns"
   ]
  },
  {
   "cell_type": "markdown",
   "metadata": {
    "papermill": {
     "duration": 0.026651,
     "end_time": "2021-07-31T13:57:20.832061",
     "exception": false,
     "start_time": "2021-07-31T13:57:20.805410",
     "status": "completed"
    },
    "tags": []
   },
   "source": [
    "# Data preprocessing"
   ]
  },
  {
   "cell_type": "code",
   "execution_count": 3,
   "metadata": {
    "execution": {
     "iopub.execute_input": "2021-07-31T13:57:20.890355Z",
     "iopub.status.busy": "2021-07-31T13:57:20.889508Z",
     "iopub.status.idle": "2021-07-31T13:57:21.131728Z",
     "shell.execute_reply": "2021-07-31T13:57:21.131174Z",
     "shell.execute_reply.started": "2021-07-31T13:56:14.713154Z"
    },
    "papermill": {
     "duration": 0.27373,
     "end_time": "2021-07-31T13:57:21.131878",
     "exception": false,
     "start_time": "2021-07-31T13:57:20.858148",
     "status": "completed"
    },
    "tags": []
   },
   "outputs": [
    {
     "data": {
      "text/html": [
       "<div>\n",
       "<style scoped>\n",
       "    .dataframe tbody tr th:only-of-type {\n",
       "        vertical-align: middle;\n",
       "    }\n",
       "\n",
       "    .dataframe tbody tr th {\n",
       "        vertical-align: top;\n",
       "    }\n",
       "\n",
       "    .dataframe thead th {\n",
       "        text-align: right;\n",
       "    }\n",
       "</style>\n",
       "<table border=\"1\" class=\"dataframe\">\n",
       "  <thead>\n",
       "    <tr style=\"text-align: right;\">\n",
       "      <th></th>\n",
       "      <th>userid</th>\n",
       "      <th>age</th>\n",
       "      <th>dob_day</th>\n",
       "      <th>dob_year</th>\n",
       "      <th>dob_month</th>\n",
       "      <th>gender</th>\n",
       "      <th>tenure</th>\n",
       "      <th>friend_count</th>\n",
       "      <th>friendships_initiated</th>\n",
       "      <th>likes</th>\n",
       "      <th>likes_received</th>\n",
       "      <th>mobile_likes</th>\n",
       "      <th>mobile_likes_received</th>\n",
       "      <th>www_likes</th>\n",
       "      <th>www_likes_received</th>\n",
       "    </tr>\n",
       "  </thead>\n",
       "  <tbody>\n",
       "    <tr>\n",
       "      <th>0</th>\n",
       "      <td>2094382</td>\n",
       "      <td>14</td>\n",
       "      <td>19</td>\n",
       "      <td>1999</td>\n",
       "      <td>11</td>\n",
       "      <td>male</td>\n",
       "      <td>266.0</td>\n",
       "      <td>0</td>\n",
       "      <td>0</td>\n",
       "      <td>0</td>\n",
       "      <td>0</td>\n",
       "      <td>0</td>\n",
       "      <td>0</td>\n",
       "      <td>0</td>\n",
       "      <td>0</td>\n",
       "    </tr>\n",
       "    <tr>\n",
       "      <th>1</th>\n",
       "      <td>1192601</td>\n",
       "      <td>14</td>\n",
       "      <td>2</td>\n",
       "      <td>1999</td>\n",
       "      <td>11</td>\n",
       "      <td>female</td>\n",
       "      <td>6.0</td>\n",
       "      <td>0</td>\n",
       "      <td>0</td>\n",
       "      <td>0</td>\n",
       "      <td>0</td>\n",
       "      <td>0</td>\n",
       "      <td>0</td>\n",
       "      <td>0</td>\n",
       "      <td>0</td>\n",
       "    </tr>\n",
       "    <tr>\n",
       "      <th>2</th>\n",
       "      <td>2083884</td>\n",
       "      <td>14</td>\n",
       "      <td>16</td>\n",
       "      <td>1999</td>\n",
       "      <td>11</td>\n",
       "      <td>male</td>\n",
       "      <td>13.0</td>\n",
       "      <td>0</td>\n",
       "      <td>0</td>\n",
       "      <td>0</td>\n",
       "      <td>0</td>\n",
       "      <td>0</td>\n",
       "      <td>0</td>\n",
       "      <td>0</td>\n",
       "      <td>0</td>\n",
       "    </tr>\n",
       "    <tr>\n",
       "      <th>3</th>\n",
       "      <td>1203168</td>\n",
       "      <td>14</td>\n",
       "      <td>25</td>\n",
       "      <td>1999</td>\n",
       "      <td>12</td>\n",
       "      <td>female</td>\n",
       "      <td>93.0</td>\n",
       "      <td>0</td>\n",
       "      <td>0</td>\n",
       "      <td>0</td>\n",
       "      <td>0</td>\n",
       "      <td>0</td>\n",
       "      <td>0</td>\n",
       "      <td>0</td>\n",
       "      <td>0</td>\n",
       "    </tr>\n",
       "    <tr>\n",
       "      <th>4</th>\n",
       "      <td>1733186</td>\n",
       "      <td>14</td>\n",
       "      <td>4</td>\n",
       "      <td>1999</td>\n",
       "      <td>12</td>\n",
       "      <td>male</td>\n",
       "      <td>82.0</td>\n",
       "      <td>0</td>\n",
       "      <td>0</td>\n",
       "      <td>0</td>\n",
       "      <td>0</td>\n",
       "      <td>0</td>\n",
       "      <td>0</td>\n",
       "      <td>0</td>\n",
       "      <td>0</td>\n",
       "    </tr>\n",
       "  </tbody>\n",
       "</table>\n",
       "</div>"
      ],
      "text/plain": [
       "    userid  age  dob_day  dob_year  dob_month  gender  tenure  friend_count  \\\n",
       "0  2094382   14       19      1999         11    male   266.0             0   \n",
       "1  1192601   14        2      1999         11  female     6.0             0   \n",
       "2  2083884   14       16      1999         11    male    13.0             0   \n",
       "3  1203168   14       25      1999         12  female    93.0             0   \n",
       "4  1733186   14        4      1999         12    male    82.0             0   \n",
       "\n",
       "   friendships_initiated  likes  likes_received  mobile_likes  \\\n",
       "0                      0      0               0             0   \n",
       "1                      0      0               0             0   \n",
       "2                      0      0               0             0   \n",
       "3                      0      0               0             0   \n",
       "4                      0      0               0             0   \n",
       "\n",
       "   mobile_likes_received  www_likes  www_likes_received  \n",
       "0                      0          0                   0  \n",
       "1                      0          0                   0  \n",
       "2                      0          0                   0  \n",
       "3                      0          0                   0  \n",
       "4                      0          0                   0  "
      ]
     },
     "execution_count": 3,
     "metadata": {},
     "output_type": "execute_result"
    }
   ],
   "source": [
    "fb_data_df = pd.read_csv('pseudo_facebook.csv')\n",
    "fb_data_df.head()\n"
   ]
  },
  {
   "cell_type": "code",
   "execution_count": 4,
   "metadata": {
    "execution": {
     "iopub.execute_input": "2021-07-31T13:57:21.200930Z",
     "iopub.status.busy": "2021-07-31T13:57:21.189960Z",
     "iopub.status.idle": "2021-07-31T13:57:21.210733Z",
     "shell.execute_reply": "2021-07-31T13:57:21.211257Z",
     "shell.execute_reply.started": "2021-07-31T13:56:15.009878Z"
    },
    "papermill": {
     "duration": 0.052692,
     "end_time": "2021-07-31T13:57:21.211431",
     "exception": false,
     "start_time": "2021-07-31T13:57:21.158739",
     "status": "completed"
    },
    "tags": []
   },
   "outputs": [
    {
     "name": "stdout",
     "output_type": "stream",
     "text": [
      "99003 Total data available \n"
     ]
    },
    {
     "data": {
      "text/plain": [
       "userid                     0\n",
       "age                        0\n",
       "dob_day                    0\n",
       "dob_year                   0\n",
       "dob_month                  0\n",
       "gender                   175\n",
       "tenure                     2\n",
       "friend_count               0\n",
       "friendships_initiated      0\n",
       "likes                      0\n",
       "likes_received             0\n",
       "mobile_likes               0\n",
       "mobile_likes_received      0\n",
       "www_likes                  0\n",
       "www_likes_received         0\n",
       "dtype: int64"
      ]
     },
     "execution_count": 4,
     "metadata": {},
     "output_type": "execute_result"
    }
   ],
   "source": [
    "# check for missing values\n",
    "print(len(fb_data_df),'Total data available ')\n",
    "fb_data_df.isnull().sum()"
   ]
  },
  {
   "cell_type": "code",
   "execution_count": 5,
   "metadata": {
    "execution": {
     "iopub.execute_input": "2021-07-31T13:57:21.273927Z",
     "iopub.status.busy": "2021-07-31T13:57:21.273172Z",
     "iopub.status.idle": "2021-07-31T13:57:21.319988Z",
     "shell.execute_reply": "2021-07-31T13:57:21.319333Z",
     "shell.execute_reply.started": "2021-07-31T13:56:15.036733Z"
    },
    "papermill": {
     "duration": 0.079751,
     "end_time": "2021-07-31T13:57:21.320139",
     "exception": false,
     "start_time": "2021-07-31T13:57:21.240388",
     "status": "completed"
    },
    "tags": []
   },
   "outputs": [],
   "source": [
    "# there are 177 rows having either gender  or tenure missing, thats 0.1 % of total data\n",
    "# as missing data is very small part of total data we can drop those rows directly\n",
    "fb_data_df.dropna(how = 'any', inplace = True)\n"
   ]
  },
  {
   "cell_type": "code",
   "execution_count": 6,
   "metadata": {
    "execution": {
     "iopub.execute_input": "2021-07-31T13:57:21.383746Z",
     "iopub.status.busy": "2021-07-31T13:57:21.382777Z",
     "iopub.status.idle": "2021-07-31T13:57:21.387207Z",
     "shell.execute_reply": "2021-07-31T13:57:21.386580Z",
     "shell.execute_reply.started": "2021-07-31T13:56:15.085621Z"
    },
    "papermill": {
     "duration": 0.038938,
     "end_time": "2021-07-31T13:57:21.387382",
     "exception": false,
     "start_time": "2021-07-31T13:57:21.348444",
     "status": "completed"
    },
    "tags": []
   },
   "outputs": [
    {
     "data": {
      "text/plain": [
       "userid                     int64\n",
       "age                        int64\n",
       "dob_day                    int64\n",
       "dob_year                   int64\n",
       "dob_month                  int64\n",
       "gender                    object\n",
       "tenure                   float64\n",
       "friend_count               int64\n",
       "friendships_initiated      int64\n",
       "likes                      int64\n",
       "likes_received             int64\n",
       "mobile_likes               int64\n",
       "mobile_likes_received      int64\n",
       "www_likes                  int64\n",
       "www_likes_received         int64\n",
       "dtype: object"
      ]
     },
     "execution_count": 6,
     "metadata": {},
     "output_type": "execute_result"
    }
   ],
   "source": [
    "# now check data types of columns (fields) \n",
    "fb_data_df.dtypes"
   ]
  },
  {
   "cell_type": "code",
   "execution_count": 7,
   "metadata": {
    "execution": {
     "iopub.execute_input": "2021-07-31T13:57:21.450628Z",
     "iopub.status.busy": "2021-07-31T13:57:21.449651Z",
     "iopub.status.idle": "2021-07-31T13:57:21.453999Z",
     "shell.execute_reply": "2021-07-31T13:57:21.453186Z",
     "shell.execute_reply.started": "2021-07-31T13:56:15.102420Z"
    },
    "papermill": {
     "duration": 0.038525,
     "end_time": "2021-07-31T13:57:21.454146",
     "exception": false,
     "start_time": "2021-07-31T13:57:21.415621",
     "status": "completed"
    },
    "tags": []
   },
   "outputs": [],
   "source": [
    "# only change needed is to take tenure as int\n",
    "fb_data_df ['tenure'] = fb_data_df['tenure'].astype('int')"
   ]
  },
  {
   "cell_type": "markdown",
   "metadata": {
    "papermill": {
     "duration": 0.027579,
     "end_time": "2021-07-31T13:57:21.510936",
     "exception": false,
     "start_time": "2021-07-31T13:57:21.483357",
     "status": "completed"
    },
    "tags": []
   },
   "source": [
    "# Age group analysis"
   ]
  },
  {
   "cell_type": "code",
   "execution_count": 8,
   "metadata": {
    "execution": {
     "iopub.execute_input": "2021-07-31T13:57:21.601780Z",
     "iopub.status.busy": "2021-07-31T13:57:21.601045Z",
     "iopub.status.idle": "2021-07-31T13:57:21.604938Z",
     "shell.execute_reply": "2021-07-31T13:57:21.604400Z",
     "shell.execute_reply.started": "2021-07-31T13:56:15.116754Z"
    },
    "papermill": {
     "duration": 0.06619,
     "end_time": "2021-07-31T13:57:21.605075",
     "exception": false,
     "start_time": "2021-07-31T13:57:21.538885",
     "status": "completed"
    },
    "tags": []
   },
   "outputs": [
    {
     "data": {
      "text/plain": [
       "(13, 113)"
      ]
     },
     "execution_count": 8,
     "metadata": {},
     "output_type": "execute_result"
    }
   ],
   "source": [
    "min(fb_data_df['age']), max(fb_data_df['age'])"
   ]
  },
  {
   "cell_type": "code",
   "execution_count": 9,
   "metadata": {
    "execution": {
     "iopub.execute_input": "2021-07-31T13:57:21.665228Z",
     "iopub.status.busy": "2021-07-31T13:57:21.664557Z",
     "iopub.status.idle": "2021-07-31T13:57:21.690459Z",
     "shell.execute_reply": "2021-07-31T13:57:21.689816Z",
     "shell.execute_reply.started": "2021-07-31T13:56:15.167470Z"
    },
    "papermill": {
     "duration": 0.057276,
     "end_time": "2021-07-31T13:57:21.690863",
     "exception": false,
     "start_time": "2021-07-31T13:57:21.633587",
     "status": "completed"
    },
    "tags": []
   },
   "outputs": [
    {
     "data": {
      "text/html": [
       "<div>\n",
       "<style scoped>\n",
       "    .dataframe tbody tr th:only-of-type {\n",
       "        vertical-align: middle;\n",
       "    }\n",
       "\n",
       "    .dataframe tbody tr th {\n",
       "        vertical-align: top;\n",
       "    }\n",
       "\n",
       "    .dataframe thead th {\n",
       "        text-align: right;\n",
       "    }\n",
       "</style>\n",
       "<table border=\"1\" class=\"dataframe\">\n",
       "  <thead>\n",
       "    <tr style=\"text-align: right;\">\n",
       "      <th></th>\n",
       "      <th>userid</th>\n",
       "      <th>age</th>\n",
       "      <th>dob_day</th>\n",
       "      <th>dob_year</th>\n",
       "      <th>dob_month</th>\n",
       "      <th>gender</th>\n",
       "      <th>tenure</th>\n",
       "      <th>friend_count</th>\n",
       "      <th>friendships_initiated</th>\n",
       "      <th>likes</th>\n",
       "      <th>likes_received</th>\n",
       "      <th>mobile_likes</th>\n",
       "      <th>mobile_likes_received</th>\n",
       "      <th>www_likes</th>\n",
       "      <th>www_likes_received</th>\n",
       "      <th>age_group</th>\n",
       "    </tr>\n",
       "  </thead>\n",
       "  <tbody>\n",
       "    <tr>\n",
       "      <th>0</th>\n",
       "      <td>2094382</td>\n",
       "      <td>14</td>\n",
       "      <td>19</td>\n",
       "      <td>1999</td>\n",
       "      <td>11</td>\n",
       "      <td>male</td>\n",
       "      <td>266</td>\n",
       "      <td>0</td>\n",
       "      <td>0</td>\n",
       "      <td>0</td>\n",
       "      <td>0</td>\n",
       "      <td>0</td>\n",
       "      <td>0</td>\n",
       "      <td>0</td>\n",
       "      <td>0</td>\n",
       "      <td>10-20</td>\n",
       "    </tr>\n",
       "    <tr>\n",
       "      <th>1</th>\n",
       "      <td>1192601</td>\n",
       "      <td>14</td>\n",
       "      <td>2</td>\n",
       "      <td>1999</td>\n",
       "      <td>11</td>\n",
       "      <td>female</td>\n",
       "      <td>6</td>\n",
       "      <td>0</td>\n",
       "      <td>0</td>\n",
       "      <td>0</td>\n",
       "      <td>0</td>\n",
       "      <td>0</td>\n",
       "      <td>0</td>\n",
       "      <td>0</td>\n",
       "      <td>0</td>\n",
       "      <td>10-20</td>\n",
       "    </tr>\n",
       "    <tr>\n",
       "      <th>2</th>\n",
       "      <td>2083884</td>\n",
       "      <td>14</td>\n",
       "      <td>16</td>\n",
       "      <td>1999</td>\n",
       "      <td>11</td>\n",
       "      <td>male</td>\n",
       "      <td>13</td>\n",
       "      <td>0</td>\n",
       "      <td>0</td>\n",
       "      <td>0</td>\n",
       "      <td>0</td>\n",
       "      <td>0</td>\n",
       "      <td>0</td>\n",
       "      <td>0</td>\n",
       "      <td>0</td>\n",
       "      <td>10-20</td>\n",
       "    </tr>\n",
       "    <tr>\n",
       "      <th>3</th>\n",
       "      <td>1203168</td>\n",
       "      <td>14</td>\n",
       "      <td>25</td>\n",
       "      <td>1999</td>\n",
       "      <td>12</td>\n",
       "      <td>female</td>\n",
       "      <td>93</td>\n",
       "      <td>0</td>\n",
       "      <td>0</td>\n",
       "      <td>0</td>\n",
       "      <td>0</td>\n",
       "      <td>0</td>\n",
       "      <td>0</td>\n",
       "      <td>0</td>\n",
       "      <td>0</td>\n",
       "      <td>10-20</td>\n",
       "    </tr>\n",
       "    <tr>\n",
       "      <th>4</th>\n",
       "      <td>1733186</td>\n",
       "      <td>14</td>\n",
       "      <td>4</td>\n",
       "      <td>1999</td>\n",
       "      <td>12</td>\n",
       "      <td>male</td>\n",
       "      <td>82</td>\n",
       "      <td>0</td>\n",
       "      <td>0</td>\n",
       "      <td>0</td>\n",
       "      <td>0</td>\n",
       "      <td>0</td>\n",
       "      <td>0</td>\n",
       "      <td>0</td>\n",
       "      <td>0</td>\n",
       "      <td>10-20</td>\n",
       "    </tr>\n",
       "  </tbody>\n",
       "</table>\n",
       "</div>"
      ],
      "text/plain": [
       "    userid  age  dob_day  dob_year  dob_month  gender  tenure  friend_count  \\\n",
       "0  2094382   14       19      1999         11    male     266             0   \n",
       "1  1192601   14        2      1999         11  female       6             0   \n",
       "2  2083884   14       16      1999         11    male      13             0   \n",
       "3  1203168   14       25      1999         12  female      93             0   \n",
       "4  1733186   14        4      1999         12    male      82             0   \n",
       "\n",
       "   friendships_initiated  likes  likes_received  mobile_likes  \\\n",
       "0                      0      0               0             0   \n",
       "1                      0      0               0             0   \n",
       "2                      0      0               0             0   \n",
       "3                      0      0               0             0   \n",
       "4                      0      0               0             0   \n",
       "\n",
       "   mobile_likes_received  www_likes  www_likes_received age_group  \n",
       "0                      0          0                   0     10-20  \n",
       "1                      0          0                   0     10-20  \n",
       "2                      0          0                   0     10-20  \n",
       "3                      0          0                   0     10-20  \n",
       "4                      0          0                   0     10-20  "
      ]
     },
     "execution_count": 9,
     "metadata": {},
     "output_type": "execute_result"
    }
   ],
   "source": [
    "# min age is 13 and max is 113 so we will take 10 as lowerbound and 120 as upperbound for creating age groups\n",
    "lables = ['10-20','21-30','31-40','41-50','51-60','61-70','71-80','81-90','91-100','101-110','111-120']\n",
    "fb_data_df['age_group'] = pd.cut(fb_data_df['age'], bins = np.arange(10, 121, 10), labels = lables, right=True)\n",
    "fb_data_df.head()"
   ]
  },
  {
   "cell_type": "code",
   "execution_count": 10,
   "metadata": {
    "execution": {
     "iopub.execute_input": "2021-07-31T13:57:21.769296Z",
     "iopub.status.busy": "2021-07-31T13:57:21.768511Z",
     "iopub.status.idle": "2021-07-31T13:57:22.022482Z",
     "shell.execute_reply": "2021-07-31T13:57:22.021924Z",
     "shell.execute_reply.started": "2021-07-31T13:56:15.204030Z"
    },
    "papermill": {
     "duration": 0.302727,
     "end_time": "2021-07-31T13:57:22.022634",
     "exception": false,
     "start_time": "2021-07-31T13:57:21.719907",
     "status": "completed"
    },
    "tags": []
   },
   "outputs": [
    {
     "data": {
      "image/png": "[encoded data removed]",
      "text/plain": [
       "<Figure size 720x576 with 1 Axes>"
      ]
     },
     "metadata": {
      "needs_background": "light"
     },
     "output_type": "display_data"
    }
   ],
   "source": [
    "# age group vs count histogram\n",
    "plt.subplots(figsize = (10,8))\n",
    "sns.histplot(fb_data_df, x = 'age_group', multiple=\"dodge\", shrink = 0.8)\n",
    "plt.show()"
   ]
  },
  {
   "cell_type": "markdown",
   "metadata": {
    "papermill": {
     "duration": 0.029597,
     "end_time": "2021-07-31T13:57:22.082721",
     "exception": false,
     "start_time": "2021-07-31T13:57:22.053124",
     "status": "completed"
    },
    "tags": []
   },
   "source": [
    "Looking at above plot we can say that majority of user base is between age group 10 - 40. In depth analysis can be done on why user count for age above 40 is less."
   ]
  },
  {
   "cell_type": "markdown",
   "metadata": {
    "papermill": {
     "duration": 0.030146,
     "end_time": "2021-07-31T13:57:22.144099",
     "exception": false,
     "start_time": "2021-07-31T13:57:22.113953",
     "status": "completed"
    },
    "tags": []
   },
   "source": [
    "# Gender wise analysis"
   ]
  },
  {
   "cell_type": "code",
   "execution_count": 11,
   "metadata": {
    "execution": {
     "iopub.execute_input": "2021-07-31T13:57:22.251979Z",
     "iopub.status.busy": "2021-07-31T13:57:22.233461Z",
     "iopub.status.idle": "2021-07-31T13:57:22.340960Z",
     "shell.execute_reply": "2021-07-31T13:57:22.340181Z",
     "shell.execute_reply.started": "2021-07-31T13:56:15.501128Z"
    },
    "papermill": {
     "duration": 0.166504,
     "end_time": "2021-07-31T13:57:22.341114",
     "exception": false,
     "start_time": "2021-07-31T13:57:22.174610",
     "status": "completed"
    },
    "tags": []
   },
   "outputs": [
    {
     "data": {
      "image/png": "[encoded data removed]",
      "text/plain": [
       "<Figure size 720x576 with 1 Axes>"
      ]
     },
     "metadata": {},
     "output_type": "display_data"
    }
   ],
   "source": [
    "# male female count\n",
    "gender_counts = fb_data_df['gender'].value_counts()\n",
    "plt.subplots(figsize=(10,8))\n",
    "plt.pie(gender_counts, labels = ['male','female'], autopct='%1.1f%%')\n",
    "plt.show()\n"
   ]
  },
  {
   "cell_type": "markdown",
   "metadata": {
    "papermill": {
     "duration": 0.029871,
     "end_time": "2021-07-31T13:57:22.402374",
     "exception": false,
     "start_time": "2021-07-31T13:57:22.372503",
     "status": "completed"
    },
    "tags": []
   },
   "source": [
    "Based on above plot we can say that there are more mail users than female users"
   ]
  },
  {
   "cell_type": "code",
   "execution_count": 12,
   "metadata": {
    "execution": {
     "iopub.execute_input": "2021-07-31T13:57:22.479417Z",
     "iopub.status.busy": "2021-07-31T13:57:22.477547Z",
     "iopub.status.idle": "2021-07-31T13:57:23.765801Z",
     "shell.execute_reply": "2021-07-31T13:57:23.765268Z",
     "shell.execute_reply.started": "2021-07-31T13:56:15.648222Z"
    },
    "papermill": {
     "duration": 1.333222,
     "end_time": "2021-07-31T13:57:23.765957",
     "exception": false,
     "start_time": "2021-07-31T13:57:22.432735",
     "status": "completed"
    },
    "tags": []
   },
   "outputs": [
    {
     "data": {
      "image/png": "[encoded data removed]",
      "text/plain": [
       "<Figure size 432x432 with 1 Axes>"
      ]
     },
     "metadata": {
      "needs_background": "light"
     },
     "output_type": "display_data"
    }
   ],
   "source": [
    "# likes  count vs age group and gender\n",
    "plt.subplots(figsize = (6,6))\n",
    "sns.barplot(data = fb_data_df,x = 'gender',y = 'likes')\n",
    "plt.show()"
   ]
  },
  {
   "cell_type": "markdown",
   "metadata": {
    "papermill": {
     "duration": 0.030908,
     "end_time": "2021-07-31T13:57:23.828325",
     "exception": false,
     "start_time": "2021-07-31T13:57:23.797417",
     "status": "completed"
    },
    "tags": []
   },
   "source": [
    "As we have seen count of female users is less than male users, but looking at like counts we can say that female users are more active than male users."
   ]
  },
  {
   "cell_type": "code",
   "execution_count": 13,
   "metadata": {
    "execution": {
     "iopub.execute_input": "2021-07-31T13:57:23.935017Z",
     "iopub.status.busy": "2021-07-31T13:57:23.928286Z",
     "iopub.status.idle": "2021-07-31T13:57:25.181936Z",
     "shell.execute_reply": "2021-07-31T13:57:25.181397Z",
     "shell.execute_reply.started": "2021-07-31T13:56:16.956259Z"
    },
    "papermill": {
     "duration": 1.32245,
     "end_time": "2021-07-31T13:57:25.182073",
     "exception": false,
     "start_time": "2021-07-31T13:57:23.859623",
     "status": "completed"
    },
    "tags": []
   },
   "outputs": [
    {
     "data": {
      "image/png": "[encoded data removed]",
      "text/plain": [
       "<Figure size 432x432 with 1 Axes>"
      ]
     },
     "metadata": {
      "needs_background": "light"
     },
     "output_type": "display_data"
    }
   ],
   "source": [
    "# likes_recieved vs gender  \n",
    "plt.subplots(figsize = (6,6))\n",
    "sns.barplot(data = fb_data_df,x = 'gender',y = 'likes_received')\n",
    "plt.show()"
   ]
  },
  {
   "cell_type": "markdown",
   "metadata": {
    "papermill": {
     "duration": 0.032073,
     "end_time": "2021-07-31T13:57:25.246133",
     "exception": false,
     "start_time": "2021-07-31T13:57:25.214060",
     "status": "completed"
    },
    "tags": []
   },
   "source": [
    "Looking at above plot, we can say that generelly content posted by female users is more liked. "
   ]
  },
  {
   "cell_type": "code",
   "execution_count": 14,
   "metadata": {
    "execution": {
     "iopub.execute_input": "2021-07-31T13:57:25.334271Z",
     "iopub.status.busy": "2021-07-31T13:57:25.331051Z",
     "iopub.status.idle": "2021-07-31T13:57:26.600809Z",
     "shell.execute_reply": "2021-07-31T13:57:26.600195Z",
     "shell.execute_reply.started": "2021-07-31T13:56:18.250899Z"
    },
    "papermill": {
     "duration": 1.323148,
     "end_time": "2021-07-31T13:57:26.600963",
     "exception": false,
     "start_time": "2021-07-31T13:57:25.277815",
     "status": "completed"
    },
    "tags": []
   },
   "outputs": [
    {
     "data": {
      "image/png": "[encoded data removed]",
      "text/plain": [
       "<Figure size 432x432 with 1 Axes>"
      ]
     },
     "metadata": {
      "needs_background": "light"
     },
     "output_type": "display_data"
    }
   ],
   "source": [
    "# friend  count vs age groupu and gender\n",
    "plt.subplots(figsize = (6,6))\n",
    "sns.barplot(data = fb_data_df,x = 'gender',y = 'friend_count')\n",
    "plt.show()"
   ]
  },
  {
   "cell_type": "markdown",
   "metadata": {
    "papermill": {
     "duration": 0.033087,
     "end_time": "2021-07-31T13:57:26.666848",
     "exception": false,
     "start_time": "2021-07-31T13:57:26.633761",
     "status": "completed"
    },
    "tags": []
   },
   "source": [
    "Female user have more friends than male users"
   ]
  },
  {
   "cell_type": "code",
   "execution_count": 15,
   "metadata": {
    "execution": {
     "iopub.execute_input": "2021-07-31T13:57:26.782655Z",
     "iopub.status.busy": "2021-07-31T13:57:26.770214Z",
     "iopub.status.idle": "2021-07-31T13:57:28.045525Z",
     "shell.execute_reply": "2021-07-31T13:57:28.046149Z",
     "shell.execute_reply.started": "2021-07-31T13:56:19.547211Z"
    },
    "papermill": {
     "duration": 1.346565,
     "end_time": "2021-07-31T13:57:28.046374",
     "exception": false,
     "start_time": "2021-07-31T13:57:26.699809",
     "status": "completed"
    },
    "tags": []
   },
   "outputs": [
    {
     "data": {
      "image/png": "[encoded data removed]",
      "text/plain": [
       "<Figure size 432x432 with 1 Axes>"
      ]
     },
     "metadata": {
      "needs_background": "light"
     },
     "output_type": "display_data"
    }
   ],
   "source": [
    "# friendships_initiated vs age group and gender\n",
    "plt.subplots(figsize = (6,6))\n",
    "sns.barplot(data = fb_data_df,x = 'gender',y = 'friendships_initiated')\n",
    "plt.show()"
   ]
  },
  {
   "cell_type": "markdown",
   "metadata": {
    "papermill": {
     "duration": 0.033032,
     "end_time": "2021-07-31T13:57:28.113466",
     "exception": false,
     "start_time": "2021-07-31T13:57:28.080434",
     "status": "completed"
    },
    "tags": []
   },
   "source": [
    "From above plot we can see that, female users do send out more friend requests than male users but there is not much difference."
   ]
  },
  {
   "cell_type": "markdown",
   "metadata": {
    "papermill": {
     "duration": 0.034368,
     "end_time": "2021-07-31T13:57:28.182888",
     "exception": false,
     "start_time": "2021-07-31T13:57:28.148520",
     "status": "completed"
    },
    "tags": []
   },
   "source": [
    "# Tenure analysis"
   ]
  },
  {
   "cell_type": "code",
   "execution_count": 16,
   "metadata": {
    "execution": {
     "iopub.execute_input": "2021-07-31T13:57:28.256831Z",
     "iopub.status.busy": "2021-07-31T13:57:28.255607Z",
     "iopub.status.idle": "2021-07-31T13:57:28.278451Z",
     "shell.execute_reply": "2021-07-31T13:57:28.277374Z",
     "shell.execute_reply.started": "2021-07-31T13:56:20.861671Z"
    },
    "papermill": {
     "duration": 0.062507,
     "end_time": "2021-07-31T13:57:28.278605",
     "exception": false,
     "start_time": "2021-07-31T13:57:28.216098",
     "status": "completed"
    },
    "tags": []
   },
   "outputs": [
    {
     "data": {
      "text/html": [
       "<div>\n",
       "<style scoped>\n",
       "    .dataframe tbody tr th:only-of-type {\n",
       "        vertical-align: middle;\n",
       "    }\n",
       "\n",
       "    .dataframe tbody tr th {\n",
       "        vertical-align: top;\n",
       "    }\n",
       "\n",
       "    .dataframe thead th {\n",
       "        text-align: right;\n",
       "    }\n",
       "</style>\n",
       "<table border=\"1\" class=\"dataframe\">\n",
       "  <thead>\n",
       "    <tr style=\"text-align: right;\">\n",
       "      <th></th>\n",
       "      <th>userid</th>\n",
       "      <th>age</th>\n",
       "      <th>dob_day</th>\n",
       "      <th>dob_year</th>\n",
       "      <th>dob_month</th>\n",
       "      <th>gender</th>\n",
       "      <th>tenure</th>\n",
       "      <th>friend_count</th>\n",
       "      <th>friendships_initiated</th>\n",
       "      <th>likes</th>\n",
       "      <th>likes_received</th>\n",
       "      <th>mobile_likes</th>\n",
       "      <th>mobile_likes_received</th>\n",
       "      <th>www_likes</th>\n",
       "      <th>www_likes_received</th>\n",
       "      <th>age_group</th>\n",
       "      <th>year_group</th>\n",
       "    </tr>\n",
       "  </thead>\n",
       "  <tbody>\n",
       "    <tr>\n",
       "      <th>0</th>\n",
       "      <td>2094382</td>\n",
       "      <td>14</td>\n",
       "      <td>19</td>\n",
       "      <td>1999</td>\n",
       "      <td>11</td>\n",
       "      <td>male</td>\n",
       "      <td>266</td>\n",
       "      <td>0</td>\n",
       "      <td>0</td>\n",
       "      <td>0</td>\n",
       "      <td>0</td>\n",
       "      <td>0</td>\n",
       "      <td>0</td>\n",
       "      <td>0</td>\n",
       "      <td>0</td>\n",
       "      <td>10-20</td>\n",
       "      <td>0-1 year</td>\n",
       "    </tr>\n",
       "    <tr>\n",
       "      <th>1</th>\n",
       "      <td>1192601</td>\n",
       "      <td>14</td>\n",
       "      <td>2</td>\n",
       "      <td>1999</td>\n",
       "      <td>11</td>\n",
       "      <td>female</td>\n",
       "      <td>6</td>\n",
       "      <td>0</td>\n",
       "      <td>0</td>\n",
       "      <td>0</td>\n",
       "      <td>0</td>\n",
       "      <td>0</td>\n",
       "      <td>0</td>\n",
       "      <td>0</td>\n",
       "      <td>0</td>\n",
       "      <td>10-20</td>\n",
       "      <td>0-1 year</td>\n",
       "    </tr>\n",
       "    <tr>\n",
       "      <th>2</th>\n",
       "      <td>2083884</td>\n",
       "      <td>14</td>\n",
       "      <td>16</td>\n",
       "      <td>1999</td>\n",
       "      <td>11</td>\n",
       "      <td>male</td>\n",
       "      <td>13</td>\n",
       "      <td>0</td>\n",
       "      <td>0</td>\n",
       "      <td>0</td>\n",
       "      <td>0</td>\n",
       "      <td>0</td>\n",
       "      <td>0</td>\n",
       "      <td>0</td>\n",
       "      <td>0</td>\n",
       "      <td>10-20</td>\n",
       "      <td>0-1 year</td>\n",
       "    </tr>\n",
       "    <tr>\n",
       "      <th>3</th>\n",
       "      <td>1203168</td>\n",
       "      <td>14</td>\n",
       "      <td>25</td>\n",
       "      <td>1999</td>\n",
       "      <td>12</td>\n",
       "      <td>female</td>\n",
       "      <td>93</td>\n",
       "      <td>0</td>\n",
       "      <td>0</td>\n",
       "      <td>0</td>\n",
       "      <td>0</td>\n",
       "      <td>0</td>\n",
       "      <td>0</td>\n",
       "      <td>0</td>\n",
       "      <td>0</td>\n",
       "      <td>10-20</td>\n",
       "      <td>0-1 year</td>\n",
       "    </tr>\n",
       "    <tr>\n",
       "      <th>4</th>\n",
       "      <td>1733186</td>\n",
       "      <td>14</td>\n",
       "      <td>4</td>\n",
       "      <td>1999</td>\n",
       "      <td>12</td>\n",
       "      <td>male</td>\n",
       "      <td>82</td>\n",
       "      <td>0</td>\n",
       "      <td>0</td>\n",
       "      <td>0</td>\n",
       "      <td>0</td>\n",
       "      <td>0</td>\n",
       "      <td>0</td>\n",
       "      <td>0</td>\n",
       "      <td>0</td>\n",
       "      <td>10-20</td>\n",
       "      <td>0-1 year</td>\n",
       "    </tr>\n",
       "  </tbody>\n",
       "</table>\n",
       "</div>"
      ],
      "text/plain": [
       "    userid  age  dob_day  dob_year  dob_month  gender  tenure  friend_count  \\\n",
       "0  2094382   14       19      1999         11    male     266             0   \n",
       "1  1192601   14        2      1999         11  female       6             0   \n",
       "2  2083884   14       16      1999         11    male      13             0   \n",
       "3  1203168   14       25      1999         12  female      93             0   \n",
       "4  1733186   14        4      1999         12    male      82             0   \n",
       "\n",
       "   friendships_initiated  likes  likes_received  mobile_likes  \\\n",
       "0                      0      0               0             0   \n",
       "1                      0      0               0             0   \n",
       "2                      0      0               0             0   \n",
       "3                      0      0               0             0   \n",
       "4                      0      0               0             0   \n",
       "\n",
       "   mobile_likes_received  www_likes  www_likes_received age_group year_group  \n",
       "0                      0          0                   0     10-20   0-1 year  \n",
       "1                      0          0                   0     10-20   0-1 year  \n",
       "2                      0          0                   0     10-20   0-1 year  \n",
       "3                      0          0                   0     10-20   0-1 year  \n",
       "4                      0          0                   0     10-20   0-1 year  "
      ]
     },
     "execution_count": 16,
     "metadata": {},
     "output_type": "execute_result"
    }
   ],
   "source": [
    "lables = ['0-1 year','1-2 years','2-3 years','3-4 years','4-5 years','5-6 years','6-7 years','7-8 years','8-9 years']\n",
    "fb_data_df['year_group'] = pd.cut(fb_data_df['tenure'], bins = np.arange(-1, 3285 + 1, 365), labels =lables)\n",
    "fb_data_df.head()"
   ]
  },
  {
   "cell_type": "code",
   "execution_count": 17,
   "metadata": {
    "execution": {
     "iopub.execute_input": "2021-07-31T13:57:28.373902Z",
     "iopub.status.busy": "2021-07-31T13:57:28.373173Z",
     "iopub.status.idle": "2021-07-31T13:57:28.566067Z",
     "shell.execute_reply": "2021-07-31T13:57:28.565531Z",
     "shell.execute_reply.started": "2021-07-31T13:56:20.892215Z"
    },
    "papermill": {
     "duration": 0.253173,
     "end_time": "2021-07-31T13:57:28.566244",
     "exception": false,
     "start_time": "2021-07-31T13:57:28.313071",
     "status": "completed"
    },
    "tags": []
   },
   "outputs": [
    {
     "data": {
      "image/png": "[encoded data removed]",
      "text/plain": [
       "<Figure size 720x576 with 1 Axes>"
      ]
     },
     "metadata": {
      "needs_background": "light"
     },
     "output_type": "display_data"
    }
   ],
   "source": [
    "# year group histogram\n",
    "plt.subplots(figsize = (10,8))\n",
    "sns.histplot(data = fb_data_df,x = 'year_group', multiple = 'dodge', shrink = 0.8)\n",
    "plt.show()"
   ]
  },
  {
   "cell_type": "markdown",
   "metadata": {
    "papermill": {
     "duration": 0.034456,
     "end_time": "2021-07-31T13:57:28.635487",
     "exception": false,
     "start_time": "2021-07-31T13:57:28.601031",
     "status": "completed"
    },
    "tags": []
   },
   "source": [
    "From above plot we can see that; majority of user remain on platform or app for around 0 –1 year after which user count drops by 10 % followed by much steeper decrease in user count. Also, we can see that after 5 years on platform most all users stop using platform and look for alternative."
   ]
  },
  {
   "cell_type": "markdown",
   "metadata": {
    "papermill": {
     "duration": 0.035147,
     "end_time": "2021-07-31T13:57:28.708579",
     "exception": false,
     "start_time": "2021-07-31T13:57:28.673432",
     "status": "completed"
    },
    "tags": []
   },
   "source": [
    "# Active users and inactive user analysis\n"
   ]
  },
  {
   "cell_type": "code",
   "execution_count": 18,
   "metadata": {
    "execution": {
     "iopub.execute_input": "2021-07-31T13:57:28.785348Z",
     "iopub.status.busy": "2021-07-31T13:57:28.784598Z",
     "iopub.status.idle": "2021-07-31T13:57:29.053766Z",
     "shell.execute_reply": "2021-07-31T13:57:29.052989Z",
     "shell.execute_reply.started": "2021-07-31T13:56:21.125858Z"
    },
    "papermill": {
     "duration": 0.309616,
     "end_time": "2021-07-31T13:57:29.053929",
     "exception": false,
     "start_time": "2021-07-31T13:57:28.744313",
     "status": "completed"
    },
    "tags": []
   },
   "outputs": [
    {
     "data": {
      "image/png": "[encoded data removed]",
      "text/plain": [
       "<Figure size 720x576 with 1 Axes>"
      ]
     },
     "metadata": {
      "needs_background": "light"
     },
     "output_type": "display_data"
    }
   ],
   "source": [
    "inactive_users = fb_data_df.query('friend_count == 0 and friendships_initiated == 0 and likes == 0')\n",
    "plt.subplots(figsize = (10,8))\n",
    "sns.histplot(data = inactive_users, x = 'gender', shrink = 0.8)\n",
    "plt.show()\n",
    "    "
   ]
  },
  {
   "cell_type": "markdown",
   "metadata": {
    "papermill": {
     "duration": 0.034989,
     "end_time": "2021-07-31T13:57:29.124310",
     "exception": false,
     "start_time": "2021-07-31T13:57:29.089321",
     "status": "completed"
    },
    "tags": []
   },
   "source": [
    "Looking into above plot we can say that the male users are more inactive than femaleusers"
   ]
  },
  {
   "cell_type": "code",
   "execution_count": 19,
   "metadata": {
    "execution": {
     "iopub.execute_input": "2021-07-31T13:57:29.202146Z",
     "iopub.status.busy": "2021-07-31T13:57:29.201492Z",
     "iopub.status.idle": "2021-07-31T13:57:30.689755Z",
     "shell.execute_reply": "2021-07-31T13:57:30.689087Z",
     "shell.execute_reply.started": "2021-07-31T13:56:21.409112Z"
    },
    "papermill": {
     "duration": 1.530161,
     "end_time": "2021-07-31T13:57:30.689927",
     "exception": false,
     "start_time": "2021-07-31T13:57:29.159766",
     "status": "completed"
    },
    "tags": []
   },
   "outputs": [
    {
     "data": {
      "image/png": "[encoded data removed]",
      "text/plain": [
       "<Figure size 720x576 with 1 Axes>"
      ]
     },
     "metadata": {
      "needs_background": "light"
     },
     "output_type": "display_data"
    }
   ],
   "source": [
    "#  age group vs activity per day\n",
    "fb_data_df['activity_per_day'] = (fb_data_df['friendships_initiated']/fb_data_df['tenure'] + fb_data_df['likes']/fb_data_df['tenure']).replace([np.nan, np.inf, -np.inf], 0)\n",
    "plt.subplots(figsize = (10,8))\n",
    "sns.barplot(data = fb_data_df,x = 'age_group',y = 'activity_per_day')\n",
    "plt.show()"
   ]
  },
  {
   "cell_type": "markdown",
   "metadata": {
    "papermill": {
     "duration": 0.037052,
     "end_time": "2021-07-31T13:57:30.780093",
     "exception": false,
     "start_time": "2021-07-31T13:57:30.743041",
     "status": "completed"
    },
    "tags": []
   },
   "source": [
    "From above plot we can see that users in age group 10 - 20 are most active"
   ]
  },
  {
   "cell_type": "code",
   "execution_count": 20,
   "metadata": {
    "execution": {
     "iopub.execute_input": "2021-07-31T13:57:30.893533Z",
     "iopub.status.busy": "2021-07-31T13:57:30.871076Z",
     "iopub.status.idle": "2021-07-31T13:57:32.106899Z",
     "shell.execute_reply": "2021-07-31T13:57:32.106201Z",
     "shell.execute_reply.started": "2021-07-31T13:56:22.990835Z"
    },
    "papermill": {
     "duration": 1.289838,
     "end_time": "2021-07-31T13:57:32.107040",
     "exception": false,
     "start_time": "2021-07-31T13:57:30.817202",
     "status": "completed"
    },
    "tags": []
   },
   "outputs": [
    {
     "data": {
      "image/png": "[encoded data removed]",
      "text/plain": [
       "<Figure size 720x576 with 1 Axes>"
      ]
     },
     "metadata": {
      "needs_background": "light"
     },
     "output_type": "display_data"
    }
   ],
   "source": [
    "# gender vs activity per day barplot\n",
    "plt.subplots(figsize = (10,8))\n",
    "sns.barplot(data = fb_data_df,x = 'gender',y = 'activity_per_day')\n",
    "plt.show()"
   ]
  },
  {
   "cell_type": "markdown",
   "metadata": {
    "papermill": {
     "duration": 0.037052,
     "end_time": "2021-07-31T13:57:32.185507",
     "exception": false,
     "start_time": "2021-07-31T13:57:32.148455",
     "status": "completed"
    },
    "tags": []
   },
   "source": [
    "From above barplot we can see that female users are far more active than male users"
   ]
  },
  {
   "cell_type": "markdown",
   "metadata": {
    "papermill": {
     "duration": 0.037135,
     "end_time": "2021-07-31T13:57:32.259556",
     "exception": false,
     "start_time": "2021-07-31T13:57:32.222421",
     "status": "completed"
    },
    "tags": []
   },
   "source": [
    "# Web users and mobile user analysis"
   ]
  },
  {
   "cell_type": "code",
   "execution_count": 21,
   "metadata": {
    "execution": {
     "iopub.execute_input": "2021-07-31T13:57:32.356391Z",
     "iopub.status.busy": "2021-07-31T13:57:32.355534Z",
     "iopub.status.idle": "2021-07-31T13:57:32.359711Z",
     "shell.execute_reply": "2021-07-31T13:57:32.359072Z",
     "shell.execute_reply.started": "2021-07-31T13:56:24.247818Z"
    },
    "papermill": {
     "duration": 0.061443,
     "end_time": "2021-07-31T13:57:32.359849",
     "exception": false,
     "start_time": "2021-07-31T13:57:32.298406",
     "status": "completed"
    },
    "tags": []
   },
   "outputs": [
    {
     "data": {
      "text/html": [
       "<div>\n",
       "<style scoped>\n",
       "    .dataframe tbody tr th:only-of-type {\n",
       "        vertical-align: middle;\n",
       "    }\n",
       "\n",
       "    .dataframe tbody tr th {\n",
       "        vertical-align: top;\n",
       "    }\n",
       "\n",
       "    .dataframe thead th {\n",
       "        text-align: right;\n",
       "    }\n",
       "</style>\n",
       "<table border=\"1\" class=\"dataframe\">\n",
       "  <thead>\n",
       "    <tr style=\"text-align: right;\">\n",
       "      <th></th>\n",
       "      <th>userid</th>\n",
       "      <th>age</th>\n",
       "      <th>dob_day</th>\n",
       "      <th>dob_year</th>\n",
       "      <th>dob_month</th>\n",
       "      <th>gender</th>\n",
       "      <th>tenure</th>\n",
       "      <th>friend_count</th>\n",
       "      <th>friendships_initiated</th>\n",
       "      <th>likes</th>\n",
       "      <th>likes_received</th>\n",
       "      <th>mobile_likes</th>\n",
       "      <th>mobile_likes_received</th>\n",
       "      <th>www_likes</th>\n",
       "      <th>www_likes_received</th>\n",
       "      <th>age_group</th>\n",
       "      <th>year_group</th>\n",
       "      <th>activity_per_day</th>\n",
       "    </tr>\n",
       "  </thead>\n",
       "  <tbody>\n",
       "    <tr>\n",
       "      <th>0</th>\n",
       "      <td>2094382</td>\n",
       "      <td>14</td>\n",
       "      <td>19</td>\n",
       "      <td>1999</td>\n",
       "      <td>11</td>\n",
       "      <td>male</td>\n",
       "      <td>266</td>\n",
       "      <td>0</td>\n",
       "      <td>0</td>\n",
       "      <td>0</td>\n",
       "      <td>0</td>\n",
       "      <td>0</td>\n",
       "      <td>0</td>\n",
       "      <td>0</td>\n",
       "      <td>0</td>\n",
       "      <td>10-20</td>\n",
       "      <td>0-1 year</td>\n",
       "      <td>0.0</td>\n",
       "    </tr>\n",
       "    <tr>\n",
       "      <th>1</th>\n",
       "      <td>1192601</td>\n",
       "      <td>14</td>\n",
       "      <td>2</td>\n",
       "      <td>1999</td>\n",
       "      <td>11</td>\n",
       "      <td>female</td>\n",
       "      <td>6</td>\n",
       "      <td>0</td>\n",
       "      <td>0</td>\n",
       "      <td>0</td>\n",
       "      <td>0</td>\n",
       "      <td>0</td>\n",
       "      <td>0</td>\n",
       "      <td>0</td>\n",
       "      <td>0</td>\n",
       "      <td>10-20</td>\n",
       "      <td>0-1 year</td>\n",
       "      <td>0.0</td>\n",
       "    </tr>\n",
       "    <tr>\n",
       "      <th>2</th>\n",
       "      <td>2083884</td>\n",
       "      <td>14</td>\n",
       "      <td>16</td>\n",
       "      <td>1999</td>\n",
       "      <td>11</td>\n",
       "      <td>male</td>\n",
       "      <td>13</td>\n",
       "      <td>0</td>\n",
       "      <td>0</td>\n",
       "      <td>0</td>\n",
       "      <td>0</td>\n",
       "      <td>0</td>\n",
       "      <td>0</td>\n",
       "      <td>0</td>\n",
       "      <td>0</td>\n",
       "      <td>10-20</td>\n",
       "      <td>0-1 year</td>\n",
       "      <td>0.0</td>\n",
       "    </tr>\n",
       "    <tr>\n",
       "      <th>3</th>\n",
       "      <td>1203168</td>\n",
       "      <td>14</td>\n",
       "      <td>25</td>\n",
       "      <td>1999</td>\n",
       "      <td>12</td>\n",
       "      <td>female</td>\n",
       "      <td>93</td>\n",
       "      <td>0</td>\n",
       "      <td>0</td>\n",
       "      <td>0</td>\n",
       "      <td>0</td>\n",
       "      <td>0</td>\n",
       "      <td>0</td>\n",
       "      <td>0</td>\n",
       "      <td>0</td>\n",
       "      <td>10-20</td>\n",
       "      <td>0-1 year</td>\n",
       "      <td>0.0</td>\n",
       "    </tr>\n",
       "    <tr>\n",
       "      <th>4</th>\n",
       "      <td>1733186</td>\n",
       "      <td>14</td>\n",
       "      <td>4</td>\n",
       "      <td>1999</td>\n",
       "      <td>12</td>\n",
       "      <td>male</td>\n",
       "      <td>82</td>\n",
       "      <td>0</td>\n",
       "      <td>0</td>\n",
       "      <td>0</td>\n",
       "      <td>0</td>\n",
       "      <td>0</td>\n",
       "      <td>0</td>\n",
       "      <td>0</td>\n",
       "      <td>0</td>\n",
       "      <td>10-20</td>\n",
       "      <td>0-1 year</td>\n",
       "      <td>0.0</td>\n",
       "    </tr>\n",
       "  </tbody>\n",
       "</table>\n",
       "</div>"
      ],
      "text/plain": [
       "    userid  age  dob_day  dob_year  dob_month  gender  tenure  friend_count  \\\n",
       "0  2094382   14       19      1999         11    male     266             0   \n",
       "1  1192601   14        2      1999         11  female       6             0   \n",
       "2  2083884   14       16      1999         11    male      13             0   \n",
       "3  1203168   14       25      1999         12  female      93             0   \n",
       "4  1733186   14        4      1999         12    male      82             0   \n",
       "\n",
       "   friendships_initiated  likes  likes_received  mobile_likes  \\\n",
       "0                      0      0               0             0   \n",
       "1                      0      0               0             0   \n",
       "2                      0      0               0             0   \n",
       "3                      0      0               0             0   \n",
       "4                      0      0               0             0   \n",
       "\n",
       "   mobile_likes_received  www_likes  www_likes_received age_group year_group  \\\n",
       "0                      0          0                   0     10-20   0-1 year   \n",
       "1                      0          0                   0     10-20   0-1 year   \n",
       "2                      0          0                   0     10-20   0-1 year   \n",
       "3                      0          0                   0     10-20   0-1 year   \n",
       "4                      0          0                   0     10-20   0-1 year   \n",
       "\n",
       "   activity_per_day  \n",
       "0               0.0  \n",
       "1               0.0  \n",
       "2               0.0  \n",
       "3               0.0  \n",
       "4               0.0  "
      ]
     },
     "execution_count": 21,
     "metadata": {},
     "output_type": "execute_result"
    }
   ],
   "source": [
    "fb_data_df.head()"
   ]
  },
  {
   "cell_type": "code",
   "execution_count": 22,
   "metadata": {
    "execution": {
     "iopub.execute_input": "2021-07-31T13:57:32.442453Z",
     "iopub.status.busy": "2021-07-31T13:57:32.441724Z",
     "iopub.status.idle": "2021-07-31T13:57:32.569960Z",
     "shell.execute_reply": "2021-07-31T13:57:32.569402Z",
     "shell.execute_reply.started": "2021-07-31T13:56:24.270619Z"
    },
    "papermill": {
     "duration": 0.172363,
     "end_time": "2021-07-31T13:57:32.570096",
     "exception": false,
     "start_time": "2021-07-31T13:57:32.397733",
     "status": "completed"
    },
    "tags": []
   },
   "outputs": [
    {
     "data": {
      "image/png": "[encoded data removed]",
      "text/plain": [
       "<Figure size 720x576 with 1 Axes>"
      ]
     },
     "metadata": {},
     "output_type": "display_data"
    }
   ],
   "source": [
    "# first get all the active users\n",
    "active_users = fb_data_df.query(\"friendships_initiated !=0 and likes != 0\").reset_index(drop=True)\n",
    "# get wich platform they are using\n",
    "active_users['use_method'] = (active_users['mobile_likes'] >= active_users['www_likes']).replace({True : 'mobile', False : 'web'})\n",
    "\n",
    "# plot it\n",
    "plt.subplots(figsize = (10,8))\n",
    "plt.pie(active_users['use_method'].value_counts(), labels = ['mobile','web'], autopct='%1.1f%%')\n",
    "plt.show()"
   ]
  },
  {
   "cell_type": "markdown",
   "metadata": {
    "papermill": {
     "duration": 0.038398,
     "end_time": "2021-07-31T13:57:32.647388",
     "exception": false,
     "start_time": "2021-07-31T13:57:32.608990",
     "status": "completed"
    },
    "tags": []
   },
   "source": [
    "From above plot we can see that 71 % of facebook users use it from mobile"
   ]
  }
 ],
 "metadata": {
  "kernelspec": {
   "display_name": "Python 3",
   "language": "python",
   "name": "python3"
  },
  "language_info": {
   "codemirror_mode": {
    "name": "ipython",
    "version": 3
   },
   "file_extension": ".py",
   "mimetype": "text/x-python",
   "name": "python",
   "nbconvert_exporter": "python",
   "pygments_lexer": "ipython3",
   "version": "3.7.3"
  },
  "papermill": {
   "default_parameters": {},
   "duration": 22.479743,
   "end_time": "2021-07-31T13:57:33.397323",
   "environment_variables": {},
   "exception": null,
   "input_path": "__notebook__.ipynb",
   "output_path": "__notebook__.ipynb",
   "parameters": {},
   "start_time": "2021-07-31T13:57:10.917580",
   "version": "2.3.3"
  }
 },
 "nbformat": 4,
 "nbformat_minor": 5
}
